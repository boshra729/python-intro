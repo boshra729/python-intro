{
  "nbformat": 4,
  "nbformat_minor": 0,
  "metadata": {
    "colab": {
      "provenance": [],
      "authorship_tag": "ABX9TyOXr3Fh7AZrX1wkvqBxn2OY",
      "include_colab_link": true
    },
    "kernelspec": {
      "name": "python3",
      "display_name": "Python 3"
    },
    "language_info": {
      "name": "python"
    }
  },
  "cells": [
    {
      "cell_type": "markdown",
      "metadata": {
        "id": "view-in-github",
        "colab_type": "text"
      },
      "source": [
        "<a href=\"https://colab.research.google.com/github/boshra729/python-intro/blob/main/pythonBasics.ipynb\" target=\"_parent\"><img src=\"https://colab.research.google.com/assets/colab-badge.svg\" alt=\"Open In Colab\"/></a>"
      ]
    },
    {
      "cell_type": "code",
      "source": [
        "print('Hello World!')"
      ],
      "metadata": {
        "colab": {
          "base_uri": "https://localhost:8080/"
        },
        "id": "3clhrNc98OBe",
        "outputId": "c3413dbd-7260-4efe-f6b7-3d604f87d867"
      },
      "execution_count": null,
      "outputs": [
        {
          "output_type": "stream",
          "name": "stdout",
          "text": [
            "Hello World!\n"
          ]
        }
      ]
    },
    {
      "cell_type": "markdown",
      "source": [
        " ### This notebook shows Python Basics\n",
        "  \n",
        "  colab & Jupyter provide the ability to make **noteboooks**. Notebooks allow you to create *text* cells support Markdown. Code cells require Python.\n",
        "  \n",
        "\n",
        " python Datatypes\n",
        "\n",
        "* int\n",
        "* str\n",
        "* float\n",
        "* bool\n"
      ],
      "metadata": {
        "id": "E-DR5FQG9OqH"
      }
    },
    {
      "cell_type": "markdown",
      "source": [
        "### AI agent notes\n",
        "\n",
        "**The representation problem** - how to represent a problem in a programming language."
      ],
      "metadata": {
        "id": "KmdjOw0nB979"
      }
    },
    {
      "cell_type": "code",
      "execution_count": null,
      "metadata": {
        "id": "xzdxYHCw7w4s"
      },
      "outputs": [],
      "source": [
        "farmer_on_top =  True\n"
      ]
    }
  ]
}